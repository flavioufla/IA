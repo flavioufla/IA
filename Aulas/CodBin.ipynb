{
 "cells": [
  {
   "cell_type": "code",
   "execution_count": 2,
   "metadata": {},
   "outputs": [],
   "source": [
    "#Constantes\n",
    "tm_bits = range(10) #Tamanho da população\n",
    "tm_pop = range(20)\n",
    "n_min = -10\n",
    "n_max = 10"
   ]
  },
  {
   "cell_type": "code",
   "execution_count": 7,
   "metadata": {},
   "outputs": [],
   "source": [
    "#Gerar indivíduo\n",
    "def geraIndividuoStr(tm_bits):\n",
    "    import random as rd\n",
    "    val = ''\n",
    "    for item in tm_bits:\n",
    "        if rd.randint(1,10) <=5:\n",
    "            val += '0'\n",
    "        else:\n",
    "            val += '1'\n",
    "    return val"
   ]
  },
  {
   "cell_type": "code",
   "execution_count": 4,
   "metadata": {},
   "outputs": [],
   "source": [
    "#Gerar população inicial\n",
    "def geraPopulacaoInicial(tm_pop):\n",
    "    pop = []\n",
    "    for item in tm_pop:\n",
    "        individuo = geraIndividuoStr(tm_bits)\n",
    "        pop.append(individuo)\n",
    "    return pop"
   ]
  },
  {
   "cell_type": "code",
   "execution_count": 125,
   "metadata": {},
   "outputs": [],
   "source": [
    "#Função para levar o numero à faixa desejada (Normalização)\n",
    "#OldRange = (OldMax - OldMin)\n",
    "#NewRange = (NewMax - NewMin)\n",
    "#NewValue = (((OldValue - OldMin) * NewRange) / OldRange) + NewMin\n",
    "\n",
    "def remap(old_value, old_min, old_max, new_min, new_max):\n",
    "    new_value = (((old_value - old_min) * (new_max - new_min)) / (old_max - old_min)) + new_min\n",
    "    return new_value"
   ]
  },
  {
   "cell_type": "code",
   "execution_count": 38,
   "metadata": {},
   "outputs": [],
   "source": [
    "#Retorna o Fitness do Indivíduo\n",
    "def getFitness(x):\n",
    "    \n",
    "    #Retorna o Fitness\n",
    "    return (x**2) - 3*x + 4"
   ]
  },
  {
   "cell_type": "code",
   "execution_count": 136,
   "metadata": {},
   "outputs": [
    {
     "name": "stdout",
     "output_type": "stream",
     "text": [
      "['1111000111', '0111110000', '1001001001', '0100001011', '0000000110', '0000010110', '0011110000', '0001100101', '1100000010', '0100100111', '1010100001', '1111100010', '1110010011', '1111010001', '0011000101', '1000100011', '0110001111', '1100011011', '1111100111', '1111101110'] \n",
      "\n",
      "[967, 496, 585, 267, 6, 22, 240, 101, 770, 295, 673, 994, 915, 977, 197, 547, 399, 795, 999, 1006] \n",
      "\n",
      "[9.219999999999999, -0.1999999999999993, 1.58, -4.78, -10.0, -9.68, -5.32, -8.1, 5.279999999999999, -4.22, 3.34, 9.760000000000002, 8.18, 9.420000000000002, -6.18, 0.8200000000000003, -2.1399999999999997, 5.779999999999999, 9.86, 10.0] \n",
      "\n",
      "[61.348399999999984, 4.639999999999998, 1.7564000000000002, 41.1884, 134.0, 126.7424, 48.2624, 93.91, 16.038399999999996, 34.4684, 5.1356, 69.97760000000002, 46.37239999999999, 64.47640000000003, 60.7324, 2.2123999999999997, 14.999599999999997, 20.068399999999997, 71.63959999999999, 74.0] \n",
      "\n"
     ]
    }
   ],
   "source": [
    "#Gera a população inicial\n",
    "pop = geraPopulacaoInicial(tm_pop)\n",
    "print(pop,'\\n')\n",
    "\n",
    "#Converte a população inicial para números inteiros\n",
    "popInt = [int(x,2) for x in pop]\n",
    "print(popInt,'\\n')\n",
    "\n",
    "#Ajusta os números para a faixa desejada (Normalização)\n",
    "popIntFinal = [remap(x,min(popInt),max(popInt),n_min,n_max) for x in popInt]\n",
    "print(popIntFinal, '\\n')\n",
    "\n",
    "#Calcula o Fitness\n",
    "popFitness = [getFitness(x) for x in popIntFinal]\n",
    "print(popFitness, '\\n')"
   ]
  },
  {
   "cell_type": "code",
   "execution_count": 53,
   "metadata": {},
   "outputs": [
    {
     "data": {
      "text/plain": [
       "1.7564000000000002"
      ]
     },
     "execution_count": 53,
     "metadata": {},
     "output_type": "execute_result"
    }
   ],
   "source": [
    "#Retorna o Fitness de um valor qualquer\n",
    "getFitness(1.58)"
   ]
  },
  {
   "cell_type": "code",
   "execution_count": 54,
   "metadata": {},
   "outputs": [
    {
     "data": {
      "text/plain": [
       "-4.489593657086224"
      ]
     },
     "execution_count": 54,
     "metadata": {},
     "output_type": "execute_result"
    }
   ],
   "source": [
    "#Normaliza um número\n",
    "remap(popInt[3],min(popInt),max(popInt),n_min,n_max)"
   ]
  }
 ],
 "metadata": {
  "kernelspec": {
   "display_name": "Python 3",
   "language": "python",
   "name": "python3"
  },
  "language_info": {
   "codemirror_mode": {
    "name": "ipython",
    "version": 3
   },
   "file_extension": ".py",
   "mimetype": "text/x-python",
   "name": "python",
   "nbconvert_exporter": "python",
   "pygments_lexer": "ipython3",
   "version": "3.7.1"
  }
 },
 "nbformat": 4,
 "nbformat_minor": 2
}
